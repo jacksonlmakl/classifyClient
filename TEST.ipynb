{
 "cells": [
  {
   "cell_type": "code",
   "execution_count": 1,
   "id": "d3dcfedb-bd72-4d61-b28d-bdca9624d124",
   "metadata": {},
   "outputs": [],
   "source": [
    "import subprocess\n",
    "process = subprocess.Popen(['python', 'app.py'])"
   ]
  },
  {
   "cell_type": "code",
   "execution_count": 2,
   "id": "4c7b9ea2-a62c-407a-ae6f-1861b46a6905",
   "metadata": {},
   "outputs": [
    {
     "name": "stdout",
     "output_type": "stream",
     "text": [
      " * Serving Flask app 'app'\n",
      " * Debug mode: on\n"
     ]
    },
    {
     "name": "stderr",
     "output_type": "stream",
     "text": [
      "\u001b[31m\u001b[1mWARNING: This is a development server. Do not use it in a production deployment. Use a production WSGI server instead.\u001b[0m\n",
      " * Running on http://127.0.0.1:5555\n",
      "\u001b[33mPress CTRL+C to quit\u001b[0m\n",
      " * Restarting with stat\n",
      " * Debugger is active!\n",
      " * Debugger PIN: 328-181-730\n"
     ]
    }
   ],
   "source": [
    "# createUser('jlm487@georgetown.edu', 'test123*$', '123')"
   ]
  },
  {
   "cell_type": "code",
   "execution_count": 5,
   "id": "8051cc55-0686-44c4-9eca-89bbf421afc9",
   "metadata": {},
   "outputs": [
    {
     "name": "stderr",
     "output_type": "stream",
     "text": [
      "127.0.0.1 - - [07/Sep/2024 17:50:27] \"GET /get_table?email=jacksonlmakl@gmail.com&password=test123*$&db=SANDBOX&schema=TEST&tbl=ORDERS&page=1 HTTP/1.1\" 200 -\n"
     ]
    }
   ],
   "source": [
    "from client import Connect\n",
    "conn=Connect(\"jacksonlmakl@gmail.com\",\"test123*$\")\n",
    "df=conn.table(\"SANDBOX\",\"TEST\",\"ORDERS\")"
   ]
  },
  {
   "cell_type": "code",
   "execution_count": 6,
   "id": "0354ec3c-d273-434c-85c6-ac46c5567352",
   "metadata": {},
   "outputs": [
    {
     "data": {
      "text/html": [
       "<div>\n",
       "<style scoped>\n",
       "    .dataframe tbody tr th:only-of-type {\n",
       "        vertical-align: middle;\n",
       "    }\n",
       "\n",
       "    .dataframe tbody tr th {\n",
       "        vertical-align: top;\n",
       "    }\n",
       "\n",
       "    .dataframe thead th {\n",
       "        text-align: right;\n",
       "    }\n",
       "</style>\n",
       "<table border=\"1\" class=\"dataframe\">\n",
       "  <thead>\n",
       "    <tr style=\"text-align: right;\">\n",
       "      <th></th>\n",
       "      <th>customer_email</th>\n",
       "      <th>customer_name</th>\n",
       "      <th>order_date</th>\n",
       "      <th>order_id</th>\n",
       "      <th>price</th>\n",
       "      <th>product_id</th>\n",
       "      <th>quantity</th>\n",
       "      <th>total</th>\n",
       "    </tr>\n",
       "  </thead>\n",
       "  <tbody>\n",
       "    <tr>\n",
       "      <th>0</th>\n",
       "      <td>None</td>\n",
       "      <td>John Doe</td>\n",
       "      <td>None</td>\n",
       "      <td>1</td>\n",
       "      <td>15.99</td>\n",
       "      <td>1</td>\n",
       "      <td>2</td>\n",
       "      <td>31.98</td>\n",
       "    </tr>\n",
       "    <tr>\n",
       "      <th>1</th>\n",
       "      <td>None</td>\n",
       "      <td>Jane Smith</td>\n",
       "      <td>None</td>\n",
       "      <td>2</td>\n",
       "      <td>45.50</td>\n",
       "      <td>2</td>\n",
       "      <td>1</td>\n",
       "      <td>45.50</td>\n",
       "    </tr>\n",
       "    <tr>\n",
       "      <th>2</th>\n",
       "      <td>None</td>\n",
       "      <td>Bob Johnson</td>\n",
       "      <td>None</td>\n",
       "      <td>3</td>\n",
       "      <td>10.00</td>\n",
       "      <td>3</td>\n",
       "      <td>5</td>\n",
       "      <td>50.00</td>\n",
       "    </tr>\n",
       "    <tr>\n",
       "      <th>3</th>\n",
       "      <td>None</td>\n",
       "      <td>Alice Williams</td>\n",
       "      <td>None</td>\n",
       "      <td>4</td>\n",
       "      <td>25.75</td>\n",
       "      <td>4</td>\n",
       "      <td>3</td>\n",
       "      <td>77.25</td>\n",
       "    </tr>\n",
       "    <tr>\n",
       "      <th>4</th>\n",
       "      <td>None</td>\n",
       "      <td>Charlie Brown</td>\n",
       "      <td>None</td>\n",
       "      <td>5</td>\n",
       "      <td>15.99</td>\n",
       "      <td>1</td>\n",
       "      <td>4</td>\n",
       "      <td>63.96</td>\n",
       "    </tr>\n",
       "  </tbody>\n",
       "</table>\n",
       "</div>"
      ],
      "text/plain": [
       "  customer_email   customer_name order_date  order_id  price  product_id  \\\n",
       "0           None        John Doe       None         1  15.99           1   \n",
       "1           None      Jane Smith       None         2  45.50           2   \n",
       "2           None     Bob Johnson       None         3  10.00           3   \n",
       "3           None  Alice Williams       None         4  25.75           4   \n",
       "4           None   Charlie Brown       None         5  15.99           1   \n",
       "\n",
       "   quantity  total  \n",
       "0         2  31.98  \n",
       "1         1  45.50  \n",
       "2         5  50.00  \n",
       "3         3  77.25  \n",
       "4         4  63.96  "
      ]
     },
     "execution_count": 6,
     "metadata": {},
     "output_type": "execute_result"
    }
   ],
   "source": [
    "df"
   ]
  },
  {
   "cell_type": "code",
   "execution_count": null,
   "id": "c362ff78-3f73-408d-9bcb-ce33f5153160",
   "metadata": {},
   "outputs": [],
   "source": []
  },
  {
   "cell_type": "code",
   "execution_count": null,
   "id": "91391cdc-11a9-4082-944d-0f8d283d1cde",
   "metadata": {},
   "outputs": [],
   "source": []
  },
  {
   "cell_type": "code",
   "execution_count": null,
   "id": "48c350f9-0155-4409-a226-46f9232d073e",
   "metadata": {},
   "outputs": [],
   "source": []
  }
 ],
 "metadata": {
  "kernelspec": {
   "display_name": "Georgetown Env",
   "language": "python",
   "name": "gtown"
  },
  "language_info": {
   "codemirror_mode": {
    "name": "ipython",
    "version": 3
   },
   "file_extension": ".py",
   "mimetype": "text/x-python",
   "name": "python",
   "nbconvert_exporter": "python",
   "pygments_lexer": "ipython3",
   "version": "3.12.3"
  }
 },
 "nbformat": 4,
 "nbformat_minor": 5
}
